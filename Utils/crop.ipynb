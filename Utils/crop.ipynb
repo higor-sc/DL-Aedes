{
  "nbformat": 4,
  "nbformat_minor": 0,
  "metadata": {
    "colab": {
      "name": "crop.ipynb",
      "provenance": [],
      "collapsed_sections": []
    },
    "kernelspec": {
      "name": "python3",
      "display_name": "Python 3"
    }
  },
  "cells": [
    {
      "cell_type": "code",
      "metadata": {
        "id": "senLWE1mXFnQ",
        "colab": {
          "base_uri": "https://localhost:8080/",
          "height": 122
        },
        "outputId": "1cee8ef8-0d09-4926-dba1-faacc1541268"
      },
      "source": [
        "import numpy as np\n",
        "\n",
        "from PIL import Image\n",
        "import matplotlib.pyplot as plt\n",
        "\n",
        "from google.colab import drive\n",
        "drive.mount('/content/drive')"
      ],
      "execution_count": null,
      "outputs": [
        {
          "output_type": "stream",
          "text": [
            "Go to this URL in a browser: https://accounts.google.com/o/oauth2/auth?client_id=947318989803-6bn6qk8qdgf4n4g3pfee6491hc0brc4i.apps.googleusercontent.com&redirect_uri=urn%3aietf%3awg%3aoauth%3a2.0%3aoob&scope=email%20https%3a%2f%2fwww.googleapis.com%2fauth%2fdocs.test%20https%3a%2f%2fwww.googleapis.com%2fauth%2fdrive%20https%3a%2f%2fwww.googleapis.com%2fauth%2fdrive.photos.readonly%20https%3a%2f%2fwww.googleapis.com%2fauth%2fpeopleapi.readonly&response_type=code\n",
            "\n",
            "Enter your authorization code:\n",
            "··········\n",
            "Mounted at /content/drive\n"
          ],
          "name": "stdout"
        }
      ]
    },
    {
      "cell_type": "code",
      "metadata": {
        "id": "-wQE3qAQfT1y"
      },
      "source": [
        "def makePatches(img, chopsize, region, path):\n",
        "  width, height = img.size\n",
        "\n",
        "  # Save Chops of original image\n",
        "  for x0 in range(0, width, chopsize):\n",
        "    for y0 in range(0, height, chopsize):\n",
        "        box = (x0, y0,\n",
        "              x0+chopsize if x0+chopsize <=  width else  width - 1,\n",
        "              y0+chopsize if y0+chopsize <= height else height - 1)\n",
        "      \n",
        "        img.crop(box).save(path + '{}-{}_{}.jpg'.format(y0, x0, region))"
      ],
      "execution_count": null,
      "outputs": []
    },
    {
      "cell_type": "code",
      "metadata": {
        "id": "5o69VfjWfqNk"
      },
      "source": [
        "path_imgbrute ='...'\n",
        "name_region = Image.open(path_imgbrute)"
      ],
      "execution_count": null,
      "outputs": []
    },
    {
      "cell_type": "code",
      "metadata": {
        "id": "_VI1i_X7Jx69"
      },
      "source": [
        "path_save_crops = '...'"
      ],
      "execution_count": null,
      "outputs": []
    },
    {
      "cell_type": "code",
      "metadata": {
        "id": "oDBf6Gsdf3AR"
      },
      "source": [
        "makePatches(name_region, 240, 'name_change', path_save_crops)"
      ],
      "execution_count": null,
      "outputs": []
    }
  ]
}