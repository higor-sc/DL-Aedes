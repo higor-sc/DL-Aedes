{
  "nbformat": 4,
  "nbformat_minor": 0,
  "metadata": {
    "colab": {
      "name": "Tester_watertank.ipynb",
      "provenance": [],
      "toc_visible": true
    },
    "kernelspec": {
      "name": "python3",
      "display_name": "Python 3"
    },
    "accelerator": "GPU"
  },
  "cells": [
    {
      "cell_type": "markdown",
      "metadata": {
        "id": "G1g-ZKw7do55"
      },
      "source": [
        "# **Water Tanks - Campinas - Testing**"
      ]
    },
    {
      "cell_type": "markdown",
      "metadata": {
        "id": "mzUa5oRrZIDS"
      },
      "source": [
        "## ***Preamble***"
      ]
    },
    {
      "cell_type": "code",
      "metadata": {
        "id": "WYcySjKVc28m"
      },
      "source": [
        "from google.colab import drive\n",
        "drive.mount('/content/drive')"
      ],
      "execution_count": null,
      "outputs": []
    },
    {
      "cell_type": "code",
      "metadata": {
        "id": "7SbfYPXPdDx5"
      },
      "source": [
        "%%shell\n",
        "\n",
        "# Install pycocotools\n",
        "git clone https://github.com/cocodataset/cocoapi.git\n",
        "cd cocoapi/PythonAPI\n",
        "python setup.py build_ext install"
      ],
      "execution_count": null,
      "outputs": []
    },
    {
      "cell_type": "markdown",
      "metadata": {
        "id": "FSmMJpLGRVrV"
      },
      "source": [
        "## ***Dataset***"
      ]
    },
    {
      "cell_type": "code",
      "metadata": {
        "id": "JLnIdigmdkmy"
      },
      "source": [
        "import os\n",
        "import numpy as np\n",
        "import torch\n",
        "import torch.utils.data\n",
        "from PIL import Image\n",
        "import xml.etree.ElementTree as ET\n",
        "\n",
        "# Dataloader\n",
        "\n",
        "class WaterTanksDataset(torch.utils.data.Dataset):\n",
        "    def __init__(self, root, transforms=None):\n",
        "        self.root = root\n",
        "        self.transforms = transforms     \n",
        "        self.imgs = list(sorted(os.listdir(os.path.join(root, \"images\"))))\n",
        "        self.anno = list(sorted(os.listdir(os.path.join(root, \"annotations\"))))\n",
        "              \n",
        "    def __getitem__(self, idx):\n",
        "        img_path = os.path.join(self.root, \"images\", self.imgs[idx])\n",
        "        img = Image.open(img_path).convert(\"RGB\")\n",
        "        \n",
        "        tree = ET.parse(os.path.join(self.root, \"annotations\", self.anno[idx]))\n",
        "        boxes = []\n",
        "        num = 0\n",
        "        for obj in tree.findall('object'):\n",
        "            bbox = obj.find('bndbox')\n",
        "            xmin = float(bbox.find('xmin').text)\n",
        "            ymin = float(bbox.find('ymin').text)\n",
        "            xmax = float(bbox.find('xmax').text)\n",
        "            ymax = float(bbox.find('ymax').text)         \n",
        "            boxes.append([xmin,ymin,xmax,ymax])\n",
        "    \n",
        "        boxes = torch.as_tensor(boxes, dtype=torch.float32) \n",
        "        area = (boxes[:, 3] - boxes[:, 1]) * (boxes[:, 2] - boxes[:, 0])  \n",
        "        \n",
        "        n = len(boxes)\n",
        "        labels = torch.ones((n,), dtype=torch.int64)\n",
        "        iscrowd = torch.zeros((n,), dtype=torch.int64)\n",
        "        \n",
        "        image_id = torch.tensor([idx])\n",
        "        \n",
        "        target = {}\n",
        "        target[\"boxes\"] = boxes\n",
        "        target[\"labels\"] = labels\n",
        "        target[\"image_id\"] = image_id\n",
        "        target[\"area\"] = area\n",
        "        target[\"iscrowd\"] = iscrowd\n",
        "  \n",
        "        if self.transforms is not None:\n",
        "            img, target = self.transforms(img, target)\n",
        "        \n",
        "        return img, target\n",
        "\n",
        "    def __len__(self):\n",
        "        return len(self.imgs)"
      ],
      "execution_count": null,
      "outputs": []
    },
    {
      "cell_type": "code",
      "metadata": {
        "id": "B4rk0zoGd1Pg"
      },
      "source": [
        "# Dataset loading\n",
        "\n",
        "from zipfile import ZipFile \n",
        "  \n",
        "file = '/content/drive/My Drive/Water Tank Detection/datasets/caixas.zip'\n",
        "\n",
        "with ZipFile(file, 'r') as zip:\n",
        "  print('Extracting all the files now...') \n",
        "  zip.extractall() \n",
        "  print('Done!') "
      ],
      "execution_count": null,
      "outputs": []
    },
    {
      "cell_type": "code",
      "metadata": {
        "id": "-Xj2AozURpk0"
      },
      "source": [
        "%%shell\n",
        "\n",
        "git clone https://github.com/pytorch/vision.git\n",
        "cd vision\n",
        "git checkout v0.3.0\n",
        "\n",
        "cp references/detection/utils.py ../\n",
        "cp references/detection/transforms.py ../\n",
        "cp references/detection/coco_eval.py ../\n",
        "cp references/detection/engine.py ../\n",
        "cp references/detection/coco_utils.py ../"
      ],
      "execution_count": null,
      "outputs": []
    },
    {
      "cell_type": "code",
      "metadata": {
        "id": "QsRJCsUGRx43"
      },
      "source": [
        "from engine import train_one_epoch, evaluate\n",
        "import utils\n",
        "import transforms as T\n",
        "\n",
        "\n",
        "def get_transform(train):\n",
        "    transforms = []\n",
        "    transforms.append(T.ToTensor())\n",
        "    if train:\n",
        "        transforms.append(T.RandomHorizontalFlip(0.5))\n",
        "    return T.Compose(transforms)"
      ],
      "execution_count": null,
      "outputs": []
    },
    {
      "cell_type": "code",
      "metadata": {
        "id": "P72ZO2CaR25u"
      },
      "source": [
        "dataset_test = WaterTanksDataset('caixas/test', get_transform(train=False))\n",
        "\n",
        "data_loader_test = torch.utils.data.DataLoader(\n",
        "    dataset_test, batch_size=1, shuffle=False, num_workers=4,\n",
        "    collate_fn=utils.collate_fn)"
      ],
      "execution_count": null,
      "outputs": []
    },
    {
      "cell_type": "markdown",
      "metadata": {
        "id": "ZH1f5g-yRcQ1"
      },
      "source": [
        "## ***Model Initialization***"
      ]
    },
    {
      "cell_type": "code",
      "metadata": {
        "id": "EaIJdQPLeHNu"
      },
      "source": [
        "import torchvision\n",
        "from torchvision.models.detection import FasterRCNN\n",
        "from torchvision.models.detection.rpn import AnchorGenerator\n",
        "\n",
        "path = '/content/drive/My Drive/Water Tank Detection/faster_watertank/ft_wtanks_campinas15.pt'\n",
        "\n",
        "model.load_state_dict(torch.load(path))"
      ],
      "execution_count": null,
      "outputs": []
    },
    {
      "cell_type": "markdown",
      "metadata": {
        "id": "CkknKNK7SOQU"
      },
      "source": [
        "## ***Testing***"
      ]
    },
    {
      "cell_type": "code",
      "metadata": {
        "id": "DNtQ1HdDeicu"
      },
      "source": [
        "device = torch.device('cuda') if torch.cuda.is_available() else torch.device('cpu')\n",
        "\n",
        "# move model to the right device\n",
        "model.to(device)\n",
        "\n",
        "# pick one image from the test set\n",
        "img, _ = dataset_test[0] # _ : coordenadas\n",
        "\n",
        "# put the model in evaluation mode\n",
        "model.eval()\n",
        "with torch.no_grad():\n",
        "    prediction = model([img.to(device)])\n",
        "    \n",
        "prediction"
      ],
      "execution_count": null,
      "outputs": []
    }
  ]
}